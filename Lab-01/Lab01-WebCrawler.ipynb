{
 "cells": [
  {
   "cell_type": "markdown",
   "metadata": {
    "colab_type": "text",
    "id": "2pCaNEE5V4Kd"
   },
   "source": [
    "# Lab01: Web Crawler.\n",
    "\n",
    "- MSSV: 1712282\n",
    "- Họ và tên: LÊ ĐOÀN CÔNG ẢNH"
   ]
  },
  {
   "cell_type": "markdown",
   "metadata": {
    "colab_type": "text",
    "id": "RW12ABtEV4Kf"
   },
   "source": [
    "## Yêu cầu bài tập\n",
    "\n",
    "**Cách làm bài**\n",
    "\n",
    "\n",
    "Bạn sẽ làm trực tiếp trên file notebook này; trong file, từ `TODO` để cho biết những phần mà bạn cần phải làm.\n",
    "\n",
    "Bạn có thể thảo luận ý tưởng cũng như tham khảo các tài liệu, nhưng *code và bài làm phải là của bạn*. \n",
    "\n",
    "Nếu vi phạm thì sẽ bị 0 điểm cho bài tập này.\n",
    "\n",
    "**Cách nộp bài**\n",
    "\n",
    "Trước khi nộp bài, rerun lại notebook (`Kernel` -> `Restart & Run All`).\n",
    "\n",
    "Sau đó, tạo thư mục có tên `MSSV` của bạn (vd, nếu bạn có MSSV là 1234567 thì bạn đặt tên thư mục là `1234567`) Chép file `Lab01-WebCrawler.ipynb`, `links.txt`, `images.txt` vào, rồi nén thư mục `MSSV` này lại và nộp ở link trên moodle.\n",
    "\n",
    "**Nội dung bài tập**\n",
    "\n",
    "Sử dụng module regex và request để thu thập đường dẫn và hình ảnh từ một trang web."
   ]
  },
  {
   "cell_type": "markdown",
   "metadata": {
    "colab_type": "text",
    "id": "7SXPfWz-V4Kg"
   },
   "source": [
    "#### 1. Import"
   ]
  },
  {
   "cell_type": "code",
   "execution_count": 1,
   "metadata": {
    "colab": {},
    "colab_type": "code",
    "id": "NZH1daHoV4Kg"
   },
   "outputs": [],
   "source": [
    "import requests\n",
    "import re"
   ]
  },
  {
   "cell_type": "markdown",
   "metadata": {
    "colab_type": "text",
    "id": "WzzuOjDGV4Kl"
   },
   "source": [
    "#### 2. Thu thập liên kết"
   ]
  },
  {
   "cell_type": "code",
   "execution_count": 2,
   "metadata": {
    "colab": {},
    "colab_type": "code",
    "id": "bKNjb0THV4Km",
    "outputId": "ef7e8623-d644-4001-ce5c-31b845a37035",
    "tags": []
   },
   "outputs": [
    {
     "output_type": "stream",
     "name": "stdout",
     "text": [
      "http://www.hcmus.edu.vn/lich-cong-tac\nhttp://www.bmrat.org/\nhttps://jobs.hcmus.edu.vn\nhttp://en.hcmus.edu.vn/\nhttp://tuyensinh.hcmus.edu.vn/\nhttps://sdh.hcmus.edu.vn/\nhttp://cellstemcell.org/\nhttp://www.progressinbiology.org/index.php/ProBio\nhttps://www.hcmus.edu.vn/component/search/?id=1&amp\nhttp://www.w3.org/1999/xhtml\nhttps://www.facebook.com/tvts.hcmus\nhttp://www.e-learning.vn\nhttps://www.google.com/a/hcmus.edu.vn/ServiceLogin?service=mail&amp\nhttp://www.hcmus.edu.vn/\nhttps://sdh.hcmus.edu.vn/tuyen-sinh/\nhttp://congdoan.hcmus.edu.vn/\nhttps://www.facebook.com/us.vnuhcm/\nhttp://www.hcmus.edu.vn/job\nhttp://doantn.hcmus.edu.vn/\nhttp://stdjns.scienceandtechnology.com.vn/\nhttps://www.hcmus.edu.vn/ho-so-pgs-gs\nhttps://pdt.hcmus.edu.vn/dstn\nhttp://portal.hcmus.edu.vn/\nhttp://www.hcmus.edu.vn/sinh-vien\nhttps://hnkh.hcmus.edu.vn/\nhttp://www.hcmus.edu.vn\nhttp://mail.office365.com/\nhttp://mail.google.com/a/hcmus.edu.vn/&amp\nhttps://www.hcmus.edu.vn/phone\nhttp://www.w3.org/2000/svg\nhttp://web.hcmus.edu.vn/index.php?option=com_content&amp\nhttps://sdh.hcmus.edu.vn/thong-bao/\nhttp://www.hcmus.edu.vn/cbvc\nhttp://ajhs.biomedpress.org/index.php/ajhs\nhttps://www.hcmus.edu.vn/\n"
     ]
    }
   ],
   "source": [
    "r = requests.get(\"http://www.hcmus.edu.vn\")\n",
    "\n",
    "# TODO:\n",
    "# Displays all the links present in the specified root URL - \"http://www.hcmus.edu.vn\"\n",
    "# use regex to find all urls from r.text (http[s]://...)\n",
    "# urls = ? \n",
    "\n",
    "# regex = \"((http|ftp|https)://.+)\"\n",
    "regex = \"(?:(?:https?|ftp):\\/\\/)[\\w/\\-?=%.]+\\.[\\w/\\-&?=%.]+\"\n",
    "data = r.text\n",
    "urls = re.findall(regex, data)\n",
    "# print(urls)\n",
    "\n",
    "# remove duplicates\n",
    "urls = list(set(urls))\n",
    "\n",
    "# Checking results?\n",
    "for i in urls:\n",
    "    print(i)\n",
    "\n",
    "#Save urls to links.txt\n",
    "fp = open('links.txt', 'w')\n",
    "for i in urls:\n",
    "    fp.write(i)\n",
    "    fp.write('\\n')\n",
    "fp.close()"
   ]
  },
  {
   "cell_type": "markdown",
   "metadata": {
    "colab_type": "text",
    "id": "uZJne0sSV4Kq"
   },
   "source": [
    "#### 3. Thu thập hình ảnh"
   ]
  },
  {
   "cell_type": "code",
   "execution_count": 3,
   "metadata": {
    "colab": {},
    "colab_type": "code",
    "id": "IiYJxbp6V4Kq",
    "outputId": "2b6d5963-213f-4842-c61f-52d94c7b5b43",
    "tags": []
   },
   "outputs": [
    {
     "output_type": "stream",
     "name": "stdout",
     "text": [
      "http://www.hcmus.edu.vn/images/2021/03/16/icon-04.png\nhttp://www.hcmus.edu.vn/images/2021/02/16/145472669_2907185929563442_5607552814352607280_n.png\nhttp://www.hcmus.edu.vn/images/2017/08/14/logo_psc1.png\nhttp://www.hcmus.edu.vn/images/2021/02/01/thong-bao-01-1.png\nhttp://www.hcmus.edu.vn/images/2017/05/08/hcmus2.jpg\nhttp://www.hcmus.edu.vn/images/2020/04/07/bn2.jpg\nhttp://www.hcmus.edu.vn/images/2017/08/14/khcn.jpg\nhttp://www.hcmus.edu.vn/images/2017/08/14/bmrat1.png\nhttp://www.hcmus.edu.vn/images/2020/02/04/1-img_4820.jpg\nhttp://www.hcmus.edu.vn/images/logo81.png\nhttp://www.hcmus.edu.vn/images/2021/03/16/icon-03.png\nhttp://www.hcmus.edu.vn/images/2020/04/09/logo-khtn_full.png\nhttp://www.hcmus.edu.vn/images/2021/03/16/icon-02.png\nhttp://www.hcmus.edu.vn/images/2021/03/16/icon-01.png\n"
     ]
    }
   ],
   "source": [
    "# TODO:\n",
    "# Displays the source of all the images present in the root URL:\n",
    "# img_src=?\n",
    "root = \"http://www.hcmus.edu.vn\"\n",
    "regex = \"<img[^>]* src=\\\"([^\\\"]*)\\\"[^>]*>\"\n",
    "# img_tag = re.findall(\"<img.*?>\", data)\n",
    "img_src = re.findall(regex, data)\n",
    "# print(img_src)\n",
    "\n",
    "# remove duplicates and add root url\n",
    "img_src = (root + s for s in img_src)\n",
    "img_src = list(set(img_src))\n",
    "\n",
    "# Checking results?\n",
    "for i in img_src:\n",
    "    print(i)\n",
    "\n",
    "#Save urls to links.txt\n",
    "fp = open('images.txt', 'w')\n",
    "for i in img_src:\n",
    "    fp.write(i)\n",
    "    fp.write('\\n')\n",
    "fp.close()"
   ]
  },
  {
   "cell_type": "markdown",
   "metadata": {
    "colab_type": "text",
    "id": "53VR6MqBV4Ku"
   },
   "source": [
    "Viết chữ\n"
   ]
  },
  {
   "cell_type": "code",
   "execution_count": null,
   "metadata": {
    "colab": {},
    "colab_type": "code",
    "id": "AGr5PMPoV4Ku"
   },
   "outputs": [],
   "source": []
  }
 ],
 "metadata": {
  "colab": {
   "name": "Lab01-WebCrawler.ipynb",
   "provenance": []
  },
  "kernelspec": {
   "name": "python382jvsc74a57bd031f2aee4e71d21fbe5cf8b01ff0e069b9275f58929596ceb00d14d90e3e16cd6",
   "display_name": "Python 3.8.2 64-bit"
  },
  "language_info": {
   "codemirror_mode": {
    "name": "ipython",
    "version": 3
   },
   "file_extension": ".py",
   "mimetype": "text/x-python",
   "name": "python",
   "nbconvert_exporter": "python",
   "pygments_lexer": "ipython3",
   "version": "3.8.2"
  },
  "metadata": {
   "interpreter": {
    "hash": "31f2aee4e71d21fbe5cf8b01ff0e069b9275f58929596ceb00d14d90e3e16cd6"
   }
  }
 },
 "nbformat": 4,
 "nbformat_minor": 1
}